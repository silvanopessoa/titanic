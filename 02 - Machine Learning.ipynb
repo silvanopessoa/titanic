{
 "cells": [
  {
   "cell_type": "code",
   "execution_count": 1,
   "metadata": {},
   "outputs": [
    {
     "name": "stderr",
     "output_type": "stream",
     "text": [
      "C:\\ProgramData\\Anaconda3\\lib\\site-packages\\sklearn\\cross_validation.py:41: DeprecationWarning: This module was deprecated in version 0.18 in favor of the model_selection module into which all the refactored classes and functions are moved. Also note that the interface of the new CV iterators are different from that of this module. This module will be removed in 0.20.\n",
      "  \"This module will be removed in 0.20.\", DeprecationWarning)\n",
      "C:\\ProgramData\\Anaconda3\\lib\\site-packages\\sklearn\\grid_search.py:42: DeprecationWarning: This module was deprecated in version 0.18 in favor of the model_selection module into which all the refactored classes and functions are moved. This module will be removed in 0.20.\n",
      "  DeprecationWarning)\n"
     ]
    }
   ],
   "source": [
    "### https://anaconda.org/anaconda/py-xgboost\n",
    "### Importando as libs\n",
    "import pandas as pd\n",
    "import numpy as np\n",
    "import xgboost as xgb\n",
    "from sklearn.metrics import confusion_matrix, mean_squared_error\n",
    "import pylab as pl\n",
    "from sklearn import model_selection\n",
    "from itertools import combinations\n",
    "from sklearn.grid_search import GridSearchCV   #Perforing grid search\n",
    "from sklearn.metrics import roc_auc_score\n",
    "import warnings\n",
    "warnings.filterwarnings('ignore')"
   ]
  },
  {
   "cell_type": "markdown",
   "metadata": {},
   "source": [
    "# Scripts"
   ]
  },
  {
   "cell_type": "code",
   "execution_count": 2,
   "metadata": {},
   "outputs": [],
   "source": [
    "def seedAnalytcs(train,colunas,colunasy,teste_size):\n",
    "    for seed_it in  range(1,15):\n",
    "        print('SEED=',seed_it)\n",
    "        x_treino, x_teste, y_treino, y_teste = model_selection.train_test_split(train[colunas],train[colunasy],test_size=teste_size,random_state=seed_it)\n",
    "        x =x_treino.sort_values(by=['SaudacaoNum'])['SaudacaoNum'].unique()\n",
    "        y=x_teste.sort_values(by=['SaudacaoNum'])['SaudacaoNum'].unique()\n",
    "        print(x)\n",
    "        print(y )\n",
    "        print(y in x)"
   ]
  },
  {
   "cell_type": "code",
   "execution_count": 3,
   "metadata": {},
   "outputs": [],
   "source": [
    "class Titanic:\n",
    "    score=0\n",
    "    colunas_final=[]\n",
    "    max_depth_final=0\n",
    "    seed_final=0\n",
    "    acertos_final=0\n",
    "    erros_final=0\n",
    "    min_child_weight_final=0\n",
    "    actuals=0\n",
    "    predictions=0"
   ]
  },
  {
   "cell_type": "code",
   "execution_count": 4,
   "metadata": {},
   "outputs": [],
   "source": [
    "def forward_feature_construction(colunasx,colunasy):\n",
    "    size = len(colunasx)\n",
    "    lista = list()\n",
    "    for id in  range(1,size):\n",
    "        for x in  combinations(colunasx,r=id):\n",
    "            lista.append(list(x))\n",
    "    return lista    "
   ]
  },
  {
   "cell_type": "code",
   "execution_count": 5,
   "metadata": {},
   "outputs": [],
   "source": [
    "def print_titanic(resultado):\n",
    "    print('#####################################################')\n",
    "    print('################# RESULTADOS ########################')\n",
    "    print('#####################################################')\n",
    "    for titanic in resultado:\n",
    "        print_titanic_valores(titanic)"
   ]
  },
  {
   "cell_type": "code",
   "execution_count": 6,
   "metadata": {},
   "outputs": [],
   "source": [
    "def print_titanic_valores(titanic):\n",
    "    print('Score =',titanic.score)\n",
    "    print('acertos=',titanic.acertos_final)\n",
    "    print('erros=',titanic.erros_final)\n",
    "    print('colunas=',titanic.colunas_final)\n",
    "    print('seed=',titanic.seed_final)\n",
    "    print('max_depth_final=',titanic.max_depth_final)\n",
    "    print('min_child_weight_final=',titanic.min_child_weight_final)\n",
    "    print(confusion_matrix(titanic.actuals, titanic.predictions))\n",
    "    print('#####################################################')"
   ]
  },
  {
   "cell_type": "code",
   "execution_count": 7,
   "metadata": {},
   "outputs": [],
   "source": [
    "def predict(lista, train, colunasy,teste_size,scan):\n",
    "   \n",
    "    ### Config Default\n",
    "    colunasx_it=['Classe','FamiliaQtde','PassagemPreco','SexoNum','SaudacaoNum']\n",
    "    seed = 9\n",
    "    max_depth=3\n",
    "    min_child_weight=1\n",
    "    \n",
    "    ### Inicializando variáveis\n",
    "    seed_it = seed\n",
    "    max_depth_it=max_depth\n",
    "    min_child_weight_it=min_child_weight\n",
    "    colunasx_it=colunasx_it\n",
    "    ultimo_acerto=0\n",
    "    \n",
    "    ### Config Final\n",
    "    resultado = []\n",
    "          \n",
    "    if scan:\n",
    "        for colunasx_it in  lista:\n",
    "            ### Slice\n",
    "            x_treino, x_teste, y_treino, y_teste = model_selection.train_test_split(train[colunasx_it],train[colunasy],test_size=teste_size,random_state=seed_it)\n",
    "            ### Modelo - Treino\n",
    "            xgb_model = xgb.XGBClassifier(max_depth=max_depth_it,min_child_weight=min_child_weight_it).fit(x_treino, y_treino)\n",
    "            ### Modelo - Predict\n",
    "            predictions = xgb_model.predict(x_teste)\n",
    "            ### Confusion Matrix\n",
    "            actuals = y_teste\n",
    "            #print(colunasx)\n",
    "            previsto = pd.DataFrame({'previsto':predictions},index=actuals.index)\n",
    "            resultadoErros =       previsto.loc[previsto['previsto'].values != actuals['Sobreviventes'].values]\n",
    "            resultadoAcertos =     previsto.loc[previsto['previsto'].values == actuals['Sobreviventes'].values]\n",
    "            pontuacao=(xgb_model.score(x_teste,y_teste)*100.0)\n",
    "\n",
    "            if resultadoAcertos.size >= ultimo_acerto and pontuacao >84 :\n",
    "                if(resultadoAcertos.size>ultimo_acerto):\n",
    "                    resultado=[]\n",
    "                titanic = Titanic()\n",
    "                ### Score\n",
    "                titanic.score = pontuacao\n",
    "                ### Resultado Final\n",
    "                titanic.max_depth_final=max_depth_it\n",
    "                titanic.seed_final=seed_it\n",
    "                titanic.colunas_final=colunasx_it\n",
    "                titanic.acertos_final=resultadoAcertos.size\n",
    "                titanic.erros_final=resultadoErros.size\n",
    "                titanic.min_child_weight_final=min_child_weight\n",
    "                titanic.actuals=actuals\n",
    "                titanic.predictions=predictions\n",
    "                \n",
    "                resultado.append(titanic)\n",
    "                ultimo_acerto=resultadoAcertos.size\n",
    "                \n",
    "                \n",
    "\n",
    "    else:\n",
    "        ### Slice\n",
    "        x_treino, x_teste, y_treino, y_teste = model_selection.train_test_split(train[colunas],train[colunasy],test_size=teste_size,random_state=seed)\n",
    "        ### Modelo - Treino\n",
    "        xgb_model = xgb.XGBClassifier(max_depth=max_depth,min_child_weight=min_child_weight).fit(x_treino, y_treino)\n",
    "        ### Modelo - Predict\n",
    "        predictions = xgb_model.predict(x_teste)\n",
    "        ### Score\n",
    "        score = xgb_model.score(x_teste,y_teste)\n",
    "        actuals = y_teste\n",
    "        previsto = pd.DataFrame({'previsto':predictions},index=actuals.index)\n",
    "        resultadoErros =       previsto.loc[previsto['previsto'].values != actuals['Sobreviventes'].values]\n",
    "        resultadoAcertos =     previsto.loc[previsto['previsto'].values == actuals['Sobreviventes'].values]\n",
    "        ### Resultado Final\n",
    "        max_depth_final=max_depth\n",
    "        seed_final=seed\n",
    "        colunas_final=colunas\n",
    "        acertos_final=resultadoAcertos.size\n",
    "        min_child_weight_final=min_child_weight\n",
    "    print_titanic(resultado)\n",
    "    return resultado\n",
    "\n",
    "\n",
    "    "
   ]
  },
  {
   "cell_type": "markdown",
   "metadata": {},
   "source": [
    "# Coleta de dados"
   ]
  },
  {
   "cell_type": "markdown",
   "metadata": {},
   "source": [
    "## Fontes"
   ]
  },
  {
   "cell_type": "code",
   "execution_count": 8,
   "metadata": {},
   "outputs": [],
   "source": [
    "### Coletando as fontes de dados\n",
    "test_csv = pd.read_csv('r_teste.csv', sep = ',', encoding = 'UTF-8',header='infer')\n",
    "train_csv = pd.read_csv('r_treino.csv', sep = ',', encoding = 'UTF-8',header='infer')\n",
    "train_dropna_csv = pd.read_csv('r_treino_dropna.csv', sep = ',', encoding = 'UTF-8',header='infer')"
   ]
  },
  {
   "cell_type": "code",
   "execution_count": 9,
   "metadata": {},
   "outputs": [],
   "source": [
    "colunasx=[\n",
    "    'Classe',\n",
    "    #'FaixaEtaria',\n",
    "    #'PortoEmbarqueNum',\n",
    "    #'ParentesIrmao',\n",
    "    'ParentesFilhos',\n",
    "    'SexoNum',\n",
    "    'SaudacaoNum',\n",
    "    'PassagemPreco',\n",
    "    'FamiliaQtde',\n",
    "    'EstaSozinho',\n",
    "    'TemCabine'\n",
    "]\n",
    "colunasy=['Sobreviventes']"
   ]
  },
  {
   "cell_type": "code",
   "execution_count": 10,
   "metadata": {},
   "outputs": [],
   "source": [
    "colunas = forward_feature_construction(colunasx,colunasy)"
   ]
  },
  {
   "cell_type": "code",
   "execution_count": 11,
   "metadata": {},
   "outputs": [],
   "source": [
    "#train= train_dropna_csv\n",
    "train= train_csv\n",
    "train=train.set_index(train['PassageiroId'])"
   ]
  },
  {
   "cell_type": "code",
   "execution_count": 12,
   "metadata": {},
   "outputs": [
    {
     "name": "stdout",
     "output_type": "stream",
     "text": [
      "<class 'pandas.core.frame.DataFrame'>\n",
      "Int64Index: 891 entries, 1 to 891\n",
      "Data columns (total 14 columns):\n",
      "PassageiroId        891 non-null int64\n",
      "Idade               714 non-null float64\n",
      "FaixaEtaria         714 non-null float64\n",
      "Classe              891 non-null int64\n",
      "PortoEmbarqueNum    891 non-null int64\n",
      "ParentesIrmao       891 non-null int64\n",
      "ParentesFilhos      891 non-null int64\n",
      "SexoNum             891 non-null int64\n",
      "SaudacaoNum         891 non-null int64\n",
      "PassagemPreco       891 non-null float64\n",
      "FamiliaQtde         891 non-null int64\n",
      "EstaSozinho         891 non-null float64\n",
      "TemCabine           891 non-null float64\n",
      "Sobreviventes       891 non-null int64\n",
      "dtypes: float64(5), int64(9)\n",
      "memory usage: 104.4 KB\n"
     ]
    }
   ],
   "source": [
    "train.info()"
   ]
  },
  {
   "cell_type": "code",
   "execution_count": 13,
   "metadata": {},
   "outputs": [],
   "source": [
    "### Config\n",
    "teste_size=0.30 ##30%"
   ]
  },
  {
   "cell_type": "code",
   "execution_count": 14,
   "metadata": {},
   "outputs": [
    {
     "name": "stdout",
     "output_type": "stream",
     "text": [
      "#####################################################\n",
      "################# RESULTADOS ########################\n",
      "#####################################################\n"
     ]
    }
   ],
   "source": [
    "resultado=predict(colunas, train, colunasy,teste_size,True)\n",
    "#84.18604651162791"
   ]
  },
  {
   "cell_type": "markdown",
   "metadata": {},
   "source": [
    "# Tuning"
   ]
  },
  {
   "cell_type": "code",
   "execution_count": 15,
   "metadata": {},
   "outputs": [],
   "source": [
    "param_teste1 = {\n",
    " #'max_depth':np.arange(3,10,2),#Quantidade máxima de itens na extensão\n",
    " #'min_child_weight':np.arange(1,60,2),\n",
    " #'n_estimators':[100,200],\n",
    " #'seed':np.arange(1,25,1),\n",
    " #'learning_rate':[0.1,1.0],#Taxa de aprendizado\n",
    " 'max_depth':[3],\n",
    " 'seed':[9],\n",
    " 'min_child_weight': [1],\n",
    "}"
   ]
  },
  {
   "cell_type": "markdown",
   "metadata": {},
   "source": [
    "## Slice"
   ]
  },
  {
   "cell_type": "code",
   "execution_count": 16,
   "metadata": {},
   "outputs": [],
   "source": [
    "colunas= ['Classe', 'SexoNum', 'SaudacaoNum', 'PassagemPreco', 'FamiliaQtde']"
   ]
  },
  {
   "cell_type": "code",
   "execution_count": 17,
   "metadata": {},
   "outputs": [],
   "source": [
    "c, r = train[colunasy].shape\n",
    "y_treino = train[colunasy].values.reshape(c,)"
   ]
  },
  {
   "cell_type": "code",
   "execution_count": 18,
   "metadata": {},
   "outputs": [
    {
     "data": {
      "text/plain": [
       "([mean: 0.87969, std: 0.13888, params: {'max_depth': 3, 'min_child_weight': 1, 'seed': 9}],\n",
       " {'max_depth': 3, 'min_child_weight': 1, 'seed': 9},\n",
       " 0.8796944444444442)"
      ]
     },
     "execution_count": 18,
     "metadata": {},
     "output_type": "execute_result"
    }
   ],
   "source": [
    "xgb_model = xgb.XGBClassifier()\n",
    "gsearch1 = GridSearchCV(xgb_model, param_grid = param_teste1, scoring='roc_auc',n_jobs=4,iid=False, cv=100)\n",
    "gsearch1.fit(train[colunas],y_treino)\n",
    "gsearch1.grid_scores_, gsearch1.best_params_, gsearch1.best_score_"
   ]
  },
  {
   "cell_type": "markdown",
   "metadata": {},
   "source": [
    "## Modelo"
   ]
  },
  {
   "cell_type": "code",
   "execution_count": 19,
   "metadata": {},
   "outputs": [
    {
     "data": {
      "text/plain": [
       "XGBClassifier(base_score=0.5, booster='gbtree', colsample_bylevel=1,\n",
       "       colsample_bytree=1, gamma=0, learning_rate=0.1, max_delta_step=0,\n",
       "       max_depth=3, min_child_weight=1, missing=None, n_estimators=100,\n",
       "       n_jobs=1, nthread=None, objective='binary:logistic', random_state=0,\n",
       "       reg_alpha=0, reg_lambda=1, scale_pos_weight=1, seed=9, silent=True,\n",
       "       subsample=1)"
      ]
     },
     "execution_count": 19,
     "metadata": {},
     "output_type": "execute_result"
    }
   ],
   "source": [
    "best_est = gsearch1.best_estimator_\n",
    "best_est"
   ]
  },
  {
   "cell_type": "markdown",
   "metadata": {},
   "source": [
    "# Relatório Kaggle"
   ]
  },
  {
   "cell_type": "markdown",
   "metadata": {},
   "source": [
    "## Previsões Final"
   ]
  },
  {
   "cell_type": "code",
   "execution_count": 20,
   "metadata": {},
   "outputs": [],
   "source": [
    "y_test = best_est.predict(test_csv[colunas])"
   ]
  },
  {
   "cell_type": "markdown",
   "metadata": {},
   "source": [
    "## Gerando CSV"
   ]
  },
  {
   "cell_type": "code",
   "execution_count": null,
   "metadata": {},
   "outputs": [],
   "source": [
    "submission = pd.DataFrame({\n",
    "        \"PassengerId\": test_csv[\"PassageiroId\"],\n",
    "        \"Survived\": y_test\n",
    "    })\n",
    "submission.to_csv('resultado.csv', index=False)"
   ]
  },
  {
   "cell_type": "markdown",
   "metadata": {},
   "source": [
    "## Árvore de Decisão"
   ]
  },
  {
   "cell_type": "code",
   "execution_count": null,
   "metadata": {},
   "outputs": [],
   "source": [
    "xgb.plot_tree(best_est)\n",
    "fig = pl.gcf()\n",
    "fig.set_size_inches(150, 100)"
   ]
  },
  {
   "cell_type": "code",
   "execution_count": null,
   "metadata": {},
   "outputs": [],
   "source": []
  },
  {
   "cell_type": "code",
   "execution_count": null,
   "metadata": {},
   "outputs": [],
   "source": []
  }
 ],
 "metadata": {
  "kernelspec": {
   "display_name": "Python 3",
   "language": "python",
   "name": "python3"
  },
  "language_info": {
   "codemirror_mode": {
    "name": "ipython",
    "version": 3
   },
   "file_extension": ".py",
   "mimetype": "text/x-python",
   "name": "python",
   "nbconvert_exporter": "python",
   "pygments_lexer": "ipython3",
   "version": "3.6.4"
  }
 },
 "nbformat": 4,
 "nbformat_minor": 2
}
