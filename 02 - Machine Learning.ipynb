{
 "cells": [
  {
   "cell_type": "code",
   "execution_count": 1,
   "metadata": {},
   "outputs": [],
   "source": [
    "### https://anaconda.org/anaconda/py-xgboost\n",
    "### Importando as libs\n",
    "import pandas as pd\n",
    "import numpy as np\n",
    "import xgboost as xgb\n",
    "from sklearn.metrics import confusion_matrix, mean_squared_error\n",
    "import pylab as pl\n",
    "from sklearn import model_selection\n",
    "from itertools import combinations"
   ]
  },
  {
   "cell_type": "markdown",
   "metadata": {},
   "source": [
    "# Coleta de dados"
   ]
  },
  {
   "cell_type": "code",
   "execution_count": 2,
   "metadata": {},
   "outputs": [],
   "source": [
    "def forward_feature_construction(colunasx,colunasy):\n",
    "    ### Config\n",
    "    seed = 9 \n",
    "    teste_size=0.30 ##30%\n",
    "    size = len(colunasx)\n",
    "    lista = list()\n",
    "    for id in  range(1,size):\n",
    "        for x in  combinations(colunasx,r=id):\n",
    "            lista.append(list(x))\n",
    "        ### Resampling\n",
    "    return lista    "
   ]
  },
  {
   "cell_type": "markdown",
   "metadata": {},
   "source": [
    "## Fontes"
   ]
  },
  {
   "cell_type": "code",
   "execution_count": 3,
   "metadata": {},
   "outputs": [],
   "source": [
    "### Coletando as fontes de dados\n",
    "test_csv = pd.read_csv('r_teste.csv', sep = ',', encoding = 'UTF-8',header='infer')\n",
    "train_csv = pd.read_csv('r_treino.csv', sep = ',', encoding = 'UTF-8',header='infer')\n",
    "train_dropna_csv = pd.read_csv('r_treino_dropna.csv', sep = ',', encoding = 'UTF-8',header='infer')"
   ]
  },
  {
   "cell_type": "code",
   "execution_count": 4,
   "metadata": {},
   "outputs": [],
   "source": [
    "colunasx=[\n",
    "    'Classe',\n",
    "    'FamiliaQtde',\n",
    "    'PassagemPreco',\n",
    "    'SexoNum',\n",
    "    'SaudacaoNum'   \n",
    "]\n",
    "colunasy=['Sobreviventes']"
   ]
  },
  {
   "cell_type": "code",
   "execution_count": 5,
   "metadata": {},
   "outputs": [
    {
     "name": "stdout",
     "output_type": "stream",
     "text": [
      "[['Classe'], ['FamiliaQtde'], ['PassagemPreco'], ['SexoNum'], ['SaudacaoNum'], ['Classe', 'FamiliaQtde'], ['Classe', 'PassagemPreco'], ['Classe', 'SexoNum'], ['Classe', 'SaudacaoNum'], ['FamiliaQtde', 'PassagemPreco'], ['FamiliaQtde', 'SexoNum'], ['FamiliaQtde', 'SaudacaoNum'], ['PassagemPreco', 'SexoNum'], ['PassagemPreco', 'SaudacaoNum'], ['SexoNum', 'SaudacaoNum'], ['Classe', 'FamiliaQtde', 'PassagemPreco'], ['Classe', 'FamiliaQtde', 'SexoNum'], ['Classe', 'FamiliaQtde', 'SaudacaoNum'], ['Classe', 'PassagemPreco', 'SexoNum'], ['Classe', 'PassagemPreco', 'SaudacaoNum'], ['Classe', 'SexoNum', 'SaudacaoNum'], ['FamiliaQtde', 'PassagemPreco', 'SexoNum'], ['FamiliaQtde', 'PassagemPreco', 'SaudacaoNum'], ['FamiliaQtde', 'SexoNum', 'SaudacaoNum'], ['PassagemPreco', 'SexoNum', 'SaudacaoNum'], ['Classe', 'FamiliaQtde', 'PassagemPreco', 'SexoNum'], ['Classe', 'FamiliaQtde', 'PassagemPreco', 'SaudacaoNum'], ['Classe', 'FamiliaQtde', 'SexoNum', 'SaudacaoNum'], ['Classe', 'PassagemPreco', 'SexoNum', 'SaudacaoNum'], ['FamiliaQtde', 'PassagemPreco', 'SexoNum', 'SaudacaoNum']]\n"
     ]
    }
   ],
   "source": [
    "print(forward_feature_construction(colunasx,colunasy))"
   ]
  },
  {
   "cell_type": "code",
   "execution_count": 6,
   "metadata": {},
   "outputs": [],
   "source": [
    "### Config\n",
    "seed = 9 \n",
    "teste_size=0.30 ##30%"
   ]
  },
  {
   "cell_type": "code",
   "execution_count": 7,
   "metadata": {},
   "outputs": [],
   "source": [
    "train_dropna_csv=train_dropna_csv.set_index(train_dropna_csv['PassageiroId'])"
   ]
  },
  {
   "cell_type": "code",
   "execution_count": 8,
   "metadata": {},
   "outputs": [],
   "source": [
    "x_treino_dropna, x_teste_dropna, y_treino_dropna, y_teste_dropna = model_selection.train_test_split(train_dropna_csv[colunasx],train_dropna_csv[colunasy],test_size=teste_size,random_state=seed)"
   ]
  },
  {
   "cell_type": "markdown",
   "metadata": {},
   "source": [
    "## Resampling"
   ]
  },
  {
   "cell_type": "markdown",
   "metadata": {},
   "source": [
    "## Modelo - Treino"
   ]
  },
  {
   "cell_type": "code",
   "execution_count": 9,
   "metadata": {},
   "outputs": [
    {
     "name": "stderr",
     "output_type": "stream",
     "text": [
      "C:\\ProgramData\\Anaconda3\\lib\\site-packages\\sklearn\\preprocessing\\label.py:95: DataConversionWarning: A column-vector y was passed when a 1d array was expected. Please change the shape of y to (n_samples, ), for example using ravel().\n",
      "  y = column_or_1d(y, warn=True)\n",
      "C:\\ProgramData\\Anaconda3\\lib\\site-packages\\sklearn\\preprocessing\\label.py:128: DataConversionWarning: A column-vector y was passed when a 1d array was expected. Please change the shape of y to (n_samples, ), for example using ravel().\n",
      "  y = column_or_1d(y, warn=True)\n"
     ]
    }
   ],
   "source": [
    "xgb_model = xgb.XGBClassifier(max_depth=3).fit(x_treino_dropna, y_treino_dropna)"
   ]
  },
  {
   "cell_type": "markdown",
   "metadata": {},
   "source": [
    "## Modelo - Predict"
   ]
  },
  {
   "cell_type": "code",
   "execution_count": 10,
   "metadata": {},
   "outputs": [
    {
     "name": "stderr",
     "output_type": "stream",
     "text": [
      "C:\\ProgramData\\Anaconda3\\lib\\site-packages\\sklearn\\preprocessing\\label.py:151: DeprecationWarning: The truth value of an empty array is ambiguous. Returning False, but in future this will result in an error. Use `array.size > 0` to check that an array is not empty.\n",
      "  if diff:\n"
     ]
    }
   ],
   "source": [
    "predictions = xgb_model.predict(x_teste_dropna)"
   ]
  },
  {
   "cell_type": "code",
   "execution_count": 11,
   "metadata": {},
   "outputs": [
    {
     "name": "stdout",
     "output_type": "stream",
     "text": [
      "[[120   9]\n",
      " [ 25  61]]\n"
     ]
    }
   ],
   "source": [
    "actuals = y_teste_dropna\n",
    "print(confusion_matrix(actuals, predictions))"
   ]
  },
  {
   "cell_type": "code",
   "execution_count": 12,
   "metadata": {},
   "outputs": [],
   "source": [
    "previsto = pd.DataFrame({'previsto':predictions},index=actuals.index)\n",
    "resultadoErros =       previsto.loc[previsto['previsto'].values != actuals['Sobreviventes'].values]\n",
    "resultadoAcertos =     previsto.loc[previsto['previsto'].values == actuals['Sobreviventes'].values]"
   ]
  },
  {
   "cell_type": "code",
   "execution_count": 13,
   "metadata": {},
   "outputs": [
    {
     "name": "stdout",
     "output_type": "stream",
     "text": [
      "Score XGBClassifier: 84.18604651162791\n"
     ]
    },
    {
     "name": "stderr",
     "output_type": "stream",
     "text": [
      "C:\\ProgramData\\Anaconda3\\lib\\site-packages\\sklearn\\preprocessing\\label.py:151: DeprecationWarning: The truth value of an empty array is ambiguous. Returning False, but in future this will result in an error. Use `array.size > 0` to check that an array is not empty.\n",
      "  if diff:\n"
     ]
    }
   ],
   "source": [
    "resultXGBClassifier = xgb_model.score(x_teste_dropna,y_teste_dropna)\n",
    "print('Score XGBClassifier:',(resultXGBClassifier*100.0))"
   ]
  },
  {
   "cell_type": "code",
   "execution_count": 14,
   "metadata": {},
   "outputs": [
    {
     "name": "stdout",
     "output_type": "stream",
     "text": [
      "Predict (215, 5)\n",
      "Erros (34, 1)\n",
      "Acertos (181, 1)\n"
     ]
    }
   ],
   "source": [
    "print('Predict',x_teste_dropna.shape)\n",
    "print('Erros',resultadoErros.shape)\n",
    "print('Acertos',resultadoAcertos.shape)"
   ]
  },
  {
   "cell_type": "markdown",
   "metadata": {},
   "source": [
    "# Resultado Final"
   ]
  },
  {
   "cell_type": "code",
   "execution_count": 15,
   "metadata": {},
   "outputs": [
    {
     "name": "stderr",
     "output_type": "stream",
     "text": [
      "C:\\ProgramData\\Anaconda3\\lib\\site-packages\\sklearn\\preprocessing\\label.py:151: DeprecationWarning: The truth value of an empty array is ambiguous. Returning False, but in future this will result in an error. Use `array.size > 0` to check that an array is not empty.\n",
      "  if diff:\n"
     ]
    }
   ],
   "source": [
    "y_pred_dropna = xgb_model.predict(test_csv[colunasx])"
   ]
  },
  {
   "cell_type": "code",
   "execution_count": null,
   "metadata": {},
   "outputs": [],
   "source": [
    "submission = pd.DataFrame({\n",
    "        \"PassengerId\": test_csv[\"PassageiroId\"],\n",
    "        \"Survived\": y_pred_dropna\n",
    "    })\n",
    "submission.to_csv('resultXGBClassifier_dropna.csv', index=False)"
   ]
  },
  {
   "cell_type": "code",
   "execution_count": null,
   "metadata": {},
   "outputs": [],
   "source": [
    "xgb.plot_tree(xgb_model)\n",
    "fig = pl.gcf()\n",
    "fig.set_size_inches(150, 100)"
   ]
  },
  {
   "cell_type": "code",
   "execution_count": null,
   "metadata": {},
   "outputs": [],
   "source": []
  },
  {
   "cell_type": "code",
   "execution_count": null,
   "metadata": {},
   "outputs": [],
   "source": []
  }
 ],
 "metadata": {
  "kernelspec": {
   "display_name": "Python 3",
   "language": "python",
   "name": "python3"
  },
  "language_info": {
   "codemirror_mode": {
    "name": "ipython",
    "version": 3
   },
   "file_extension": ".py",
   "mimetype": "text/x-python",
   "name": "python",
   "nbconvert_exporter": "python",
   "pygments_lexer": "ipython3",
   "version": "3.6.4"
  }
 },
 "nbformat": 4,
 "nbformat_minor": 2
}
