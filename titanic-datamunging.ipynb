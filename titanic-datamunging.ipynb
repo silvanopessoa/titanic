{
 "cells": [
  {
   "cell_type": "markdown",
   "metadata": {},
   "source": [
    "# Titanic: Machine Learning from Disaster"
   ]
  },
  {
   "cell_type": "markdown",
   "metadata": {},
   "source": [
    "# Definição do Escopo"
   ]
  },
  {
   "cell_type": "markdown",
   "metadata": {},
   "source": [
    "* Realizar o processo de Data Munging no dataset do tytanic;\n",
    "* Gerar arquivos CSV aplicar os algoritmos machine learning em um próximo projeto;\n",
    "* Os arquivos devem ter passado pelo processo de:\n",
    "    * Análise Exploratória de Dados;\n",
    "    * Análise Estatística de Dados;\n",
    "    * Pré-Processamento;\n"
   ]
  },
  {
   "cell_type": "markdown",
   "metadata": {},
   "source": [
    "# Objetivo"
   ]
  },
  {
   "cell_type": "markdown",
   "metadata": {},
   "source": [
    "Gerar dataset(csv) limpo e formatado para aplicar no projeto algoritmos de ML para prever: \n",
    "* Que tipos de pessoas provavelmente sobreviveriam?"
   ]
  },
  {
   "cell_type": "markdown",
   "metadata": {},
   "source": [
    "# Coleta de dados"
   ]
  },
  {
   "cell_type": "markdown",
   "metadata": {},
   "source": [
    "https://www.kaggle.com/c/titanic/data\n",
    "\n",
    "<b>PassengerId</b> = Passageiro ID<br>\n",
    "<b>Survived</b> = Sobreviventes<br>\n",
    "<b>Pclass</b> = Classe do Ingresso<br>\n",
    "<b>Name</b> = Nome<br>\n",
    "<b>Sex</b> = Sexo<br>\n",
    "<b>Age</b> = Idade<br>\n",
    "<b>SibSp</b> = Parentes Irmão/Irmã/Marido/Esposa<br>\n",
    "<b>Parch</b> = Parentes Mãe/Pai/Filhos/Enteado<br>\n",
    "<b>Ticket</b> = Passagem Número<br>\n",
    "<b>Fare</b> = Passagem Preço<br>\n",
    "<b>Cabin</b> = Cabine<br>\n",
    "<b>Embarked</b> = Porto de Embarque(C = Cherbourg; Q = Queenstown; S = Southampton)<br>"
   ]
  },
  {
   "cell_type": "code",
   "execution_count": null,
   "metadata": {},
   "outputs": [],
   "source": []
  }
 ],
 "metadata": {
  "kernelspec": {
   "display_name": "Python 3",
   "language": "python",
   "name": "python3"
  },
  "language_info": {
   "codemirror_mode": {
    "name": "ipython",
    "version": 3
   },
   "file_extension": ".py",
   "mimetype": "text/x-python",
   "name": "python",
   "nbconvert_exporter": "python",
   "pygments_lexer": "ipython3",
   "version": "3.6.4"
  }
 },
 "nbformat": 4,
 "nbformat_minor": 2
}
