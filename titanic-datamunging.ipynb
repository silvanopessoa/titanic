{
 "cells": [
  {
   "cell_type": "markdown",
   "metadata": {},
   "source": [
    "# Titanic: Machine Learning from Disaster"
   ]
  },
  {
   "cell_type": "markdown",
   "metadata": {},
   "source": [
    "# Definição do Escopo"
   ]
  },
  {
   "cell_type": "markdown",
   "metadata": {},
   "source": [
    "* Realizar o processo de Data Munging no dataset do tytanic;\n",
    "* Gerar arquivos CSVs para o próximos projeto para aplicar os algoritmos machine learning;\n",
    "* Os arquivos devem passar pelo processo de:\n",
    "    * Análise Exploratória de Dados;\n",
    "    * Análise Estatística de Dados;\n",
    "    * Pré-Processamento;\n"
   ]
  },
  {
   "cell_type": "markdown",
   "metadata": {},
   "source": [
    "# Objetivo"
   ]
  },
  {
   "cell_type": "markdown",
   "metadata": {},
   "source": [
    "Gerar dataset(csv) limpo e formatado para aplicar no projeto algoritmos de ML para prever: \n",
    "* Que tipos de pessoas provavelmente sobreviveriam?"
   ]
  },
  {
   "cell_type": "markdown",
   "metadata": {},
   "source": [
    "# Funções"
   ]
  },
  {
   "cell_type": "code",
   "execution_count": null,
   "metadata": {},
   "outputs": [],
   "source": [
    "def print_full(x):\n",
    "    pd.set_option('display.max_rows', len(x))\n",
    "    print(x)\n",
    "    pd.reset_option('display.max_rows')"
   ]
  },
  {
   "cell_type": "markdown",
   "metadata": {},
   "source": [
    "# Coleta de dados"
   ]
  },
  {
   "cell_type": "markdown",
   "metadata": {},
   "source": [
    "https://www.kaggle.com/c/titanic/data\n",
    "\n",
    "<b>PassengerId</b> = Passageiro ID<br>\n",
    "<b>Survived</b> = Sobreviventes<br>\n",
    "<b>Pclass</b> = Classe do Ingresso<br>\n",
    "<b>Name</b> = Nome<br>\n",
    "<b>Sex</b> = Sexo<br>\n",
    "<b>Age</b> = Idade<br>\n",
    "<b>SibSp</b> = Parentes Irmão/Irmã/Marido/Esposa<br>\n",
    "<b>Parch</b> = Parentes Mãe/Pai/Filhos/Enteado<br>\n",
    "<b>Ticket</b> = Passagem Número<br>\n",
    "<b>Fare</b> = Passagem Preço<br>\n",
    "<b>Cabin</b> = Cabine<br>\n",
    "<b>Embarked</b> = Porto de Embarque(C = Cherbourg; Q = Queenstown; S = Southampton)<br>"
   ]
  },
  {
   "cell_type": "markdown",
   "metadata": {},
   "source": [
    "## Fontes"
   ]
  },
  {
   "cell_type": "code",
   "execution_count": null,
   "metadata": {},
   "outputs": [],
   "source": [
    "### Importando as libs\n",
    "import pandas as pd\n",
    "import numpy as np"
   ]
  },
  {
   "cell_type": "code",
   "execution_count": null,
   "metadata": {},
   "outputs": [],
   "source": [
    "### Coletando as fontes de dados\n",
    "train_csv = pd.read_csv('train.csv', sep = ',', encoding = 'UTF-8')\n",
    "test_csv = pd.read_csv('test.csv', sep = ',', encoding = 'UTF-8')"
   ]
  },
  {
   "cell_type": "markdown",
   "metadata": {},
   "source": [
    "## Validação - Importação dos dados"
   ]
  },
  {
   "cell_type": "code",
   "execution_count": null,
   "metadata": {},
   "outputs": [],
   "source": [
    "test_csv.head(2)"
   ]
  },
  {
   "cell_type": "code",
   "execution_count": null,
   "metadata": {},
   "outputs": [],
   "source": [
    "train_csv.head(2)"
   ]
  },
  {
   "cell_type": "markdown",
   "metadata": {},
   "source": [
    "## Renomeando - Colunas"
   ]
  },
  {
   "cell_type": "code",
   "execution_count": null,
   "metadata": {},
   "outputs": [],
   "source": [
    "### Colunas de Teste\n",
    "test=test_csv.copy()\n",
    "colunasTeste=['PassageiroId','Classe','Nome','Sexo','Idade','ParentesIrmao','ParentesFilhos',\n",
    "              'PassagemNumero','PassagemPreco','Cabine','PortoEmbarque']\n",
    "test.columns=colunasTeste"
   ]
  },
  {
   "cell_type": "code",
   "execution_count": null,
   "metadata": {},
   "outputs": [],
   "source": [
    "### Colunas de Treino\n",
    "train=train_csv.copy()\n",
    "colunasTreino = colunasTeste[:]\n",
    "colunasTreino.insert(1,'Sobreviventes')\n",
    "train.columns=colunasTreino"
   ]
  },
  {
   "cell_type": "markdown",
   "metadata": {},
   "source": [
    "## Validação - Renomeação das colunas"
   ]
  },
  {
   "cell_type": "code",
   "execution_count": null,
   "metadata": {},
   "outputs": [],
   "source": [
    "test.head(2)"
   ]
  },
  {
   "cell_type": "code",
   "execution_count": null,
   "metadata": {},
   "outputs": [],
   "source": [
    "train.head(2)"
   ]
  },
  {
   "cell_type": "markdown",
   "metadata": {},
   "source": [
    "## Join Metadados"
   ]
  },
  {
   "cell_type": "code",
   "execution_count": null,
   "metadata": {},
   "outputs": [],
   "source": [
    "### União do Treino e Teste \n",
    "frames = [train[colunasTeste], test]\n",
    "join = pd.concat(frames)"
   ]
  },
  {
   "cell_type": "markdown",
   "metadata": {},
   "source": [
    "## Coleta de dados - Conclusão"
   ]
  },
  {
   "cell_type": "markdown",
   "metadata": {},
   "source": [
    "<b>Dados de treino:</b> Possuí informações dos sobreviventes, então podemos utilizar algoritmos machine learning supervisionado.\n",
    "<br>\n",
    "<b>Dados de teste:</b> As previsões dos dados de teste deve ser enviado para o Kaggle, conforme o modelo: gender_submission.csv\n",
    "<br>\n",
    "<b>Join Metadados:</b> A união dos datasets de treino e teste vai ajudar no processo de análise exploratória dos dados.\n",
    "<br>\n",
    "<b>Join Metadados:</b> Foi excluído a coluna sobreviventes."
   ]
  },
  {
   "cell_type": "markdown",
   "metadata": {},
   "source": [
    "# Análise Exploratória de Dados"
   ]
  },
  {
   "cell_type": "markdown",
   "metadata": {},
   "source": [
    "## Visualizar - 1ª Linhas"
   ]
  },
  {
   "cell_type": "code",
   "execution_count": null,
   "metadata": {},
   "outputs": [],
   "source": [
    "### Treino\n",
    "train.head(20)"
   ]
  },
  {
   "cell_type": "code",
   "execution_count": null,
   "metadata": {},
   "outputs": [],
   "source": [
    "### Teste\n",
    "test.head(20)"
   ]
  },
  {
   "cell_type": "markdown",
   "metadata": {},
   "source": [
    "## Quais as dimensões do dataset?\n"
   ]
  },
  {
   "cell_type": "code",
   "execution_count": null,
   "metadata": {},
   "outputs": [],
   "source": [
    "### Treino\n",
    "train.shape"
   ]
  },
  {
   "cell_type": "code",
   "execution_count": null,
   "metadata": {},
   "outputs": [],
   "source": [
    "### Teste\n",
    "test.shape"
   ]
  },
  {
   "cell_type": "code",
   "execution_count": null,
   "metadata": {},
   "outputs": [],
   "source": [
    "### JOIN\n",
    "join.shape"
   ]
  },
  {
   "cell_type": "markdown",
   "metadata": {},
   "source": [
    "<b>Dados de treino:</b> A quantidade de dados de treino aparentemente não é suficiente para ter um modelo com alta precisão.\n",
    "<br>"
   ]
  },
  {
   "cell_type": "markdown",
   "metadata": {},
   "source": [
    "## Quais são os tipos das colunas?"
   ]
  },
  {
   "cell_type": "code",
   "execution_count": null,
   "metadata": {},
   "outputs": [],
   "source": [
    "### Treino\n",
    "train.dtypes"
   ]
  },
  {
   "cell_type": "code",
   "execution_count": null,
   "metadata": {},
   "outputs": [],
   "source": [
    "### Teste\n",
    "test.dtypes"
   ]
  },
  {
   "cell_type": "code",
   "execution_count": null,
   "metadata": {},
   "outputs": [],
   "source": [
    "### Join\n",
    "join.dtypes"
   ]
  },
  {
   "cell_type": "markdown",
   "metadata": {},
   "source": [
    "## Quais as colunas que tem valores nulos?"
   ]
  },
  {
   "cell_type": "code",
   "execution_count": null,
   "metadata": {},
   "outputs": [],
   "source": [
    "### Treino\n",
    "train.info()"
   ]
  },
  {
   "cell_type": "code",
   "execution_count": null,
   "metadata": {
    "scrolled": true
   },
   "outputs": [],
   "source": [
    "### Teste\n",
    "test.info()"
   ]
  },
  {
   "cell_type": "code",
   "execution_count": null,
   "metadata": {},
   "outputs": [],
   "source": [
    "### Join\n",
    "join.info()"
   ]
  },
  {
   "cell_type": "markdown",
   "metadata": {},
   "source": [
    "## Quais total de valores nulos por coluna?"
   ]
  },
  {
   "cell_type": "code",
   "execution_count": null,
   "metadata": {},
   "outputs": [],
   "source": [
    "### Treino\n",
    "train.isnull().sum()"
   ]
  },
  {
   "cell_type": "code",
   "execution_count": null,
   "metadata": {},
   "outputs": [],
   "source": [
    "### Teste\n",
    "test.isnull().sum()"
   ]
  },
  {
   "cell_type": "code",
   "execution_count": null,
   "metadata": {},
   "outputs": [],
   "source": [
    "### Join\n",
    "join.isnull().sum()"
   ]
  },
  {
   "cell_type": "markdown",
   "metadata": {},
   "source": [
    "## Sumário Estatístico"
   ]
  },
  {
   "cell_type": "markdown",
   "metadata": {},
   "source": [
    "Resumo estatístico do DataFrame, com quartis, mediana, etc\n",
    "\n",
    "<ul>\n",
    "<li>count = quantidade de registros não nulo</li>\n",
    "<li>mean = média aritmética</li>\n",
    "<li>std = desvio padrão</li>\n",
    "<li>min = minímo valor</li>\n",
    "<li>25% = Primeiro Quartil</li>\n",
    "<li>50% = Segundo Quartil = Mediana</li>\n",
    "<li>75% = Terceiro Quartil</li>\n",
    "<li>max = maior valor</li>\n",
    "</ul>"
   ]
  },
  {
   "cell_type": "markdown",
   "metadata": {},
   "source": [
    "### Dados - Brutos"
   ]
  },
  {
   "cell_type": "code",
   "execution_count": null,
   "metadata": {},
   "outputs": [],
   "source": [
    "### Treino \n",
    "train.describe()"
   ]
  },
  {
   "cell_type": "code",
   "execution_count": null,
   "metadata": {},
   "outputs": [],
   "source": [
    "### Teste\n",
    "test.describe()"
   ]
  },
  {
   "cell_type": "code",
   "execution_count": null,
   "metadata": {},
   "outputs": [],
   "source": [
    "### Join\n",
    "join.describe()"
   ]
  },
  {
   "cell_type": "markdown",
   "metadata": {},
   "source": [
    "### Sumário Estatístico(Dados Brutos) - Conclusão "
   ]
  },
  {
   "cell_type": "markdown",
   "metadata": {},
   "source": [
    "* **PassageiroId:** \n",
    "    * Treino: Desconsiderar os valores relacionados a coluna.\n",
    "    * Teste:  Desconsiderar os valores relacionados a coluna.\n",
    "    * União:  Desconsiderar os valores relacionados a coluna.\n",
    "* **Sobreviventes:** \n",
    "    * Treino: Aproximadamente 38% sobreviveu - mean 0.383838\n",
    "* **Classe:** \n",
    "    * A mediana é a melhor representação da Classe.(50% do Quartil);  \n",
    "    * Corresponde a 3ª classe como maioria nos dados de treino e test.\n",
    "    * A mediana é a melhor representação da Classe;     \n",
    "* **Idade:** \n",
    "* **ParentesIrmao:**\n",
    "* **ParentesFilhos:** \n",
    "* **PassagemPreco:**"
   ]
  },
  {
   "cell_type": "markdown",
   "metadata": {},
   "source": [
    "### É possível trabalhar com dataset removendo os valores nulos?"
   ]
  },
  {
   "cell_type": "code",
   "execution_count": null,
   "metadata": {},
   "outputs": [],
   "source": [
    "join.dropna().info()"
   ]
  },
  {
   "cell_type": "markdown",
   "metadata": {},
   "source": [
    "#### Conclusão\n",
    "* Se remover todas as colunas com valores nulos fica inviável trabalhar com dataset;\n",
    "* A coluna Cabine existe vários valores nulos;\n"
   ]
  },
  {
   "cell_type": "markdown",
   "metadata": {},
   "source": [
    "### Dados - Sem nulos"
   ]
  },
  {
   "cell_type": "code",
   "execution_count": null,
   "metadata": {},
   "outputs": [],
   "source": [
    "colunasSemCabine = colunasTeste[:]\n",
    "colunasSemCabine.remove('Cabine')"
   ]
  },
  {
   "cell_type": "code",
   "execution_count": null,
   "metadata": {},
   "outputs": [],
   "source": [
    "#Valor total - bruto: 891\n",
    "#Valor total - Sem Nulos: 712\n",
    "train_dropna=train.dropna(subset=colunasSemCabine)\n",
    "train_dropna.describe()"
   ]
  },
  {
   "cell_type": "code",
   "execution_count": null,
   "metadata": {},
   "outputs": [],
   "source": [
    "#Valor total - bruto: 418\n",
    "#Valor total - Sem Nulos: 331\n",
    "test_dropna=test.dropna(subset=colunasSemCabine)\n",
    "test_dropna.describe()"
   ]
  },
  {
   "cell_type": "code",
   "execution_count": null,
   "metadata": {},
   "outputs": [],
   "source": [
    "#Valor total - bruto: 1309\n",
    "#Valor total - Sem Nulos: 1043\n",
    "join_dropna=join.dropna(subset=colunasSemCabine)\n",
    "join_dropna.describe()"
   ]
  },
  {
   "cell_type": "markdown",
   "metadata": {},
   "source": [
    "## Balanceamento"
   ]
  },
  {
   "cell_type": "markdown",
   "metadata": {},
   "source": [
    "### Qual a quantidade de sobreviventes nos dados de treino?"
   ]
  },
  {
   "cell_type": "code",
   "execution_count": null,
   "metadata": {},
   "outputs": [],
   "source": [
    "train.groupby('Sobreviventes').size()"
   ]
  },
  {
   "cell_type": "markdown",
   "metadata": {},
   "source": [
    "### Qual a quantidade de sobreviventes nos dados de treino sem os campos nulos?"
   ]
  },
  {
   "cell_type": "code",
   "execution_count": null,
   "metadata": {},
   "outputs": [],
   "source": [
    "train_dropna.groupby('Sobreviventes').size()"
   ]
  },
  {
   "cell_type": "markdown",
   "metadata": {},
   "source": [
    "### Existe algum porto de embarque que sobreviveu mais pessoas ou todos sobreviveram por não embarcar?"
   ]
  },
  {
   "cell_type": "code",
   "execution_count": null,
   "metadata": {},
   "outputs": [],
   "source": [
    "### Resposta: Não\n",
    "train.groupby(['Sobreviventes','PortoEmbarque']).size()"
   ]
  },
  {
   "cell_type": "markdown",
   "metadata": {},
   "source": [
    "### Quem tinha filhos sobreviveu mais do que morreu?"
   ]
  },
  {
   "cell_type": "code",
   "execution_count": null,
   "metadata": {},
   "outputs": [],
   "source": [
    "### Resposta: Não. Mas que não tinha filhos morreu mais e ninguem sobreviveu que tinha 4 e 6 parentes.\n",
    "### 4 e 6 = 0 = Morreu\n",
    "### 0,1,2,3,5 = 1 = Talvez\n",
    "train.groupby(['Sobreviventes','ParentesFilhos','Sexo','Classe']).size()"
   ]
  },
  {
   "cell_type": "markdown",
   "metadata": {},
   "source": [
    "### Existem nos dados teste pessoas que tem mais que 6 filhos?"
   ]
  },
  {
   "cell_type": "code",
   "execution_count": null,
   "metadata": {},
   "outputs": [],
   "source": [
    "### Sim 9. \n",
    "test.groupby(['ParentesFilhos']).size()"
   ]
  },
  {
   "cell_type": "markdown",
   "metadata": {},
   "source": [
    "### Quem tinhas mais parentes sobreviveu?"
   ]
  },
  {
   "cell_type": "code",
   "execution_count": null,
   "metadata": {},
   "outputs": [],
   "source": [
    "### Resposta: Não. Mas que não tinha parantes morreu mais e ninguem sobreviveu que tinha 5,6,7,8 parentes.\n",
    "### 5,6,7,8   = 0 = Morreu\n",
    "### 0,1,2.3,4   = 1 = Talvez\n",
    "train.groupby(['Sobreviventes','ParentesIrmao']).size()"
   ]
  },
  {
   "cell_type": "markdown",
   "metadata": {},
   "source": [
    "### Existem nos dados teste pessoas que tem mais que 8 parentes?"
   ]
  },
  {
   "cell_type": "code",
   "execution_count": null,
   "metadata": {},
   "outputs": [],
   "source": [
    "### Não.\n",
    "test.groupby(['ParentesIrmao']).size()"
   ]
  },
  {
   "cell_type": "markdown",
   "metadata": {},
   "source": [
    "### Sobreviveu mais mulheres ou homens?"
   ]
  },
  {
   "cell_type": "code",
   "execution_count": null,
   "metadata": {},
   "outputs": [],
   "source": [
    "### Resposta: Sobreviveu mais mulheres e morreu menos mulheres.\n",
    "train.groupby(['Sobreviventes','Sexo']).size()"
   ]
  },
  {
   "cell_type": "markdown",
   "metadata": {},
   "source": [
    "### Existem pessoas com mesmo número de passagem?"
   ]
  },
  {
   "cell_type": "code",
   "execution_count": null,
   "metadata": {},
   "outputs": [],
   "source": [
    "### Resposta: Sim\n",
    "mesmo_numero_passagem=train.groupby(['Sobreviventes','PassagemNumero']).size()\n",
    "mesmo_numero_passagem"
   ]
  },
  {
   "cell_type": "markdown",
   "metadata": {},
   "source": [
    "### As pessoas com mesmo número de passagem sobreviveram?"
   ]
  },
  {
   "cell_type": "code",
   "execution_count": null,
   "metadata": {},
   "outputs": [],
   "source": [
    "### Resposta: Não\n",
    "df_mesmo_numero_passagem = pd.DataFrame({'Sobreviventes':mesmo_numero_passagem.index.get_level_values(0),'Passagem':mesmo_numero_passagem.index.get_level_values(1), 'PassagemQuantidade':mesmo_numero_passagem.values})\n",
    "df_mesmo_numero_passagem.groupby(['Sobreviventes','PassagemQuantidade']).size()"
   ]
  },
  {
   "cell_type": "markdown",
   "metadata": {},
   "source": [
    "### Existem pessoas na mesma cabine?"
   ]
  },
  {
   "cell_type": "code",
   "execution_count": null,
   "metadata": {},
   "outputs": [],
   "source": [
    "### Resposta: Sim\n",
    "mesma_cabine=train.groupby(['Sobreviventes','Cabine']).size()\n",
    "mesma_cabine"
   ]
  },
  {
   "cell_type": "markdown",
   "metadata": {},
   "source": [
    "### As pessoas na mesma cabine sobreviveram?"
   ]
  },
  {
   "cell_type": "code",
   "execution_count": null,
   "metadata": {},
   "outputs": [],
   "source": [
    "### Resposta: Não\n",
    "df_mesma_cabine = pd.DataFrame({'Sobreviventes':mesma_cabine.index.get_level_values(0),'Cabine':mesma_cabine.index.get_level_values(1), 'CabineQuantidade':mesma_cabine.values})\n",
    "df_mesma_cabine.groupby(['Sobreviventes','CabineQuantidade']).size()"
   ]
  },
  {
   "cell_type": "markdown",
   "metadata": {},
   "source": [
    "### Qual a idade das pessoas que sobreviveram e morreram?"
   ]
  },
  {
   "cell_type": "code",
   "execution_count": null,
   "metadata": {},
   "outputs": [],
   "source": [
    "print_full(train.groupby(['Sobreviventes','Idade']).size())"
   ]
  },
  {
   "cell_type": "markdown",
   "metadata": {},
   "source": [
    "### Qual a menor/maior idade que um homem e mulher morreu/sobreviveu?"
   ]
  },
  {
   "cell_type": "code",
   "execution_count": null,
   "metadata": {},
   "outputs": [],
   "source": [
    "### Respostas:\n",
    "### Menor Mulher Morreu: 2 anos\n",
    "### Menor Mulher Sobreviveu: 7 meses\n",
    "\n",
    "### Menor Homem Morreu: 1 ano\n",
    "### Menor Homem Sobreviveu: 4 meses\n",
    "\n",
    "\n",
    "### Maior Mulher Morreu: 57 anos\n",
    "### Maior Mulher Sobreviveu: 63 anos\n",
    "\n",
    "### Maior Homem Morreu: 74 anos\n",
    "### Maior Homem Sobreviveu: 80 anos\n",
    "print_full(train.groupby(['Sobreviventes','Idade','Sexo']).size())"
   ]
  },
  {
   "cell_type": "markdown",
   "metadata": {},
   "source": [
    "### Qual a menor/maior preço de passagem de quem morreu/sobreviveu pagou?"
   ]
  },
  {
   "cell_type": "code",
   "execution_count": null,
   "metadata": {},
   "outputs": [],
   "source": [
    "### Respostas:\n",
    "### Sobrevieveu maior: 512\n",
    "### Sobrevieveu menor: 0\n",
    "### Morreu maior menor: 263 \n",
    "### Morreu maior maior: 0 \n",
    "print_full(train.groupby(['Sobreviventes','PassagemPreco']).size())"
   ]
  },
  {
   "cell_type": "markdown",
   "metadata": {},
   "source": [
    "### Existe uma classe que sobreviveu ou morreu todos?"
   ]
  },
  {
   "cell_type": "code",
   "execution_count": null,
   "metadata": {},
   "outputs": [],
   "source": [
    "### Resposta: Não\n",
    "train.groupby(['Sobreviventes','Classe']).size()"
   ]
  },
  {
   "cell_type": "markdown",
   "metadata": {},
   "source": [
    "### Existe alguma classe que só homem ou mulher sobreviveram/morreram?"
   ]
  },
  {
   "cell_type": "code",
   "execution_count": null,
   "metadata": {},
   "outputs": [],
   "source": [
    "### Resposta: Não\n",
    "train.groupby(['Sobreviventes','Classe','Sexo']).size()"
   ]
  },
  {
   "cell_type": "markdown",
   "metadata": {},
   "source": [
    "### Existem nomes duplicados?"
   ]
  },
  {
   "cell_type": "code",
   "execution_count": null,
   "metadata": {},
   "outputs": [],
   "source": [
    "### Resposta: Não\n",
    "print_full(train.groupby(['Nome']).size())"
   ]
  },
  {
   "cell_type": "markdown",
   "metadata": {},
   "source": [
    "## Correlação"
   ]
  },
  {
   "cell_type": "code",
   "execution_count": null,
   "metadata": {},
   "outputs": [],
   "source": [
    "### pearson\n",
    "train.corr(method='pearson')"
   ]
  },
  {
   "cell_type": "code",
   "execution_count": null,
   "metadata": {},
   "outputs": [],
   "source": [
    "### kendall\n",
    "train.corr(method = 'kendall')"
   ]
  },
  {
   "cell_type": "code",
   "execution_count": null,
   "metadata": {},
   "outputs": [],
   "source": [
    "### spearman\n",
    "train.corr(method = 'spearman')"
   ]
  },
  {
   "cell_type": "code",
   "execution_count": null,
   "metadata": {},
   "outputs": [],
   "source": [
    "### Decision Trees\n",
    "from sklearn.ensemble import ExtraTreesClassifier"
   ]
  },
  {
   "cell_type": "code",
   "execution_count": null,
   "metadata": {},
   "outputs": [],
   "source": [
    "colunasNumericas=['Classe','ParentesIrmao','ParentesFilhos','Idade','PassagemPreco']\n",
    "x = pd.DataFrame(train_dropna,columns=colunasNumericas).values\n",
    "y = train_dropna['Sobreviventes']"
   ]
  },
  {
   "cell_type": "code",
   "execution_count": null,
   "metadata": {},
   "outputs": [],
   "source": [
    "modeloExtraTreesClassifier = ExtraTreesClassifier()\n",
    "modeloExtraTreesClassifier.fit(x,y)"
   ]
  },
  {
   "cell_type": "code",
   "execution_count": null,
   "metadata": {},
   "outputs": [],
   "source": [
    "### Quanto maior o score, maior a importância do atributo\n",
    "print(colunasNumericas)\n",
    "print(modeloExtraTreesClassifier.feature_importances_)"
   ]
  },
  {
   "cell_type": "code",
   "execution_count": null,
   "metadata": {},
   "outputs": [],
   "source": [
    "### Random Forest\n",
    "from sklearn.ensemble import RandomForestClassifier"
   ]
  },
  {
   "cell_type": "code",
   "execution_count": null,
   "metadata": {},
   "outputs": [],
   "source": [
    "modeloRandomForestClassifier = RandomForestClassifier()\n",
    "modeloRandomForestClassifier.fit(x,y)"
   ]
  },
  {
   "cell_type": "code",
   "execution_count": null,
   "metadata": {},
   "outputs": [],
   "source": [
    "print(colunasNumericas)\n",
    "print(modeloRandomForestClassifier.feature_importances_)"
   ]
  },
  {
   "cell_type": "markdown",
   "metadata": {},
   "source": [
    "## Simetria"
   ]
  },
  {
   "cell_type": "markdown",
   "metadata": {},
   "source": [
    "Skewness quantifica o quão simétrica é a distribuição.\n",
    "* Uma distribuição simétrica tem skewness de zero.\n",
    "* Uma distribuição assimétrica com uma cauda longa para a direita (valores mais altos) tem um skew positivo.\n",
    "* Uma distribuição assimétrica com uma cauda longa para a esquerda (valores mais baixos) tem um skew negativo.\n",
    "\n",
    "Visualizar no Density Plot Univariado os itens comentados acima\n",
    "\n",
    "![title](assimetria.jpg)"
   ]
  },
  {
   "cell_type": "code",
   "execution_count": null,
   "metadata": {},
   "outputs": [],
   "source": [
    "train.skew()"
   ]
  },
  {
   "cell_type": "code",
   "execution_count": null,
   "metadata": {},
   "outputs": [],
   "source": [
    "train_dropna.skew()"
   ]
  },
  {
   "cell_type": "code",
   "execution_count": null,
   "metadata": {},
   "outputs": [],
   "source": [
    "test.skew()"
   ]
  },
  {
   "cell_type": "code",
   "execution_count": null,
   "metadata": {},
   "outputs": [],
   "source": [
    "test_dropna.skew()"
   ]
  },
  {
   "cell_type": "code",
   "execution_count": null,
   "metadata": {},
   "outputs": [],
   "source": [
    "join.skew()"
   ]
  },
  {
   "cell_type": "code",
   "execution_count": null,
   "metadata": {},
   "outputs": [],
   "source": [
    "join_dropna.skew()"
   ]
  },
  {
   "cell_type": "code",
   "execution_count": null,
   "metadata": {},
   "outputs": [],
   "source": []
  }
 ],
 "metadata": {
  "kernelspec": {
   "display_name": "Python 3",
   "language": "python",
   "name": "python3"
  },
  "language_info": {
   "codemirror_mode": {
    "name": "ipython",
    "version": 3
   },
   "file_extension": ".py",
   "mimetype": "text/x-python",
   "name": "python",
   "nbconvert_exporter": "python",
   "pygments_lexer": "ipython3",
   "version": "3.6.4"
  }
 },
 "nbformat": 4,
 "nbformat_minor": 2
}
